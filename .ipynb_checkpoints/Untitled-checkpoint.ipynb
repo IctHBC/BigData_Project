{
 "cells": [
  {
   "cell_type": "code",
   "execution_count": 4,
   "metadata": {},
   "outputs": [],
   "source": [
    "from urllib.request import urlopen\n",
    "import requests\n",
    "import bs4\n",
    "import pandas as pd\n",
    "def lent_data(DEAL_YMD ,LAWD_CD):\n",
    "    endpoint= \"http://openapi.molit.go.kr:8081/OpenAPI_ToolInstallPackage/service/rest/RTMSOBJSvc/getRTMSDataSvcAptRent?\"\n",
    "    serviceKey = \"iBEI9PHF2CVq9qPxkxcVWZ3b%2BiT5hynqSdTZNmU%2FBgD%2FrAw4ApwMSxxWZVlEHHWtTkaUnVJaFccuEgRivMtxfg%3D%3D\"\n",
    "    paramset = \"serviceKey=\"+serviceKey + \"&\" + \"LAWD_CD=\" + LAWD_CD + \"&\" + \"DEAL_YMD=\" + DEAL_YMD \n",
    "    url=endpoint+paramset\n",
    "    resultXML = urlopen(url)\n",
    "    result = resultXML.read()\n",
    "    xmlsoup = bs4.BeautifulSoup(result, 'lxml-xml')\n",
    "    Item=xmlsoup.findAll(\"item\")\n",
    "    lent=pd.DataFrame()\n",
    " \n",
    "    for t in Item:\n",
    "        build=t.find(\"건축년도\").text\n",
    "        year=t.find(\"년\").text\n",
    "        month=t.find(\"월\").text\n",
    "        day=t.find(\"일\").text\n",
    "        dong=t.find(\"법정동\").text\n",
    "        deposit=t.find(\"보증금액\").text\n",
    "        month_price=t.find(\"월세금액\").text\n",
    "        apart=t.find(\"아파트\").text\n",
    "        size=t.find(\"전용면적\").text\n",
    "        try:\n",
    "            ji_num=t.find(\"지번\").text\n",
    "        except:\n",
    "            ji_num=\"\"\n",
    "        ji_code=t.find(\"지역코드\").text\n",
    "        floor=t.find(\"층\").text\n",
    " \n",
    "        temp = pd.DataFrame(([[build,year,month,day,dong,deposit,month_price,apart,size,ji_num,ji_code,floor]]), columns=[\"build\",\"year\",\"month\",\"day\",\"dong\",\"deposit\",\"month_price\",\"apart\",\"size\",\"ji_num\",\"ji_code\",\"floor\"])\n",
    "        lent=pd.concat([lent,temp])\n",
    " \n",
    "    lent=lent.reset_index(drop=True)\n",
    "    return lent"
   ]
  },
  {
   "cell_type": "code",
   "execution_count": 5,
   "metadata": {},
   "outputs": [
    {
     "name": "stdout",
     "output_type": "stream",
     "text": [
      "*201705개가 검색 되었습니다.\n",
      "*201706개가 검색 되었습니다.\n",
      "*201707개가 검색 되었습니다.\n",
      "*201708개가 검색 되었습니다.\n",
      "*201709개가 검색 되었습니다.\n",
      "*201710개가 검색 되었습니다.\n",
      "*201711개가 검색 되었습니다.\n",
      "*201712개가 검색 되었습니다.\n",
      "*201801개가 검색 되었습니다.\n",
      "*201802개가 검색 되었습니다.\n",
      "*201803개가 검색 되었습니다.\n",
      "*201804개가 검색 되었습니다.\n",
      "*201805개가 검색 되었습니다.\n",
      "*201806개가 검색 되었습니다.\n",
      "*201807개가 검색 되었습니다.\n",
      "*201808개가 검색 되었습니다.\n",
      "*201809개가 검색 되었습니다.\n",
      "*201810개가 검색 되었습니다.\n",
      "*201811개가 검색 되었습니다.\n",
      "*201812개가 검색 되었습니다.\n",
      "*201901개가 검색 되었습니다.\n",
      "*201902개가 검색 되었습니다.\n",
      "*201903개가 검색 되었습니다.\n",
      "*201904개가 검색 되었습니다.\n",
      "*201905개가 검색 되었습니다.\n",
      "*201906개가 검색 되었습니다.\n",
      "*201907개가 검색 되었습니다.\n",
      "*201908개가 검색 되었습니다.\n",
      "*201909개가 검색 되었습니다.\n",
      "*201910개가 검색 되었습니다.\n",
      "*201911개가 검색 되었습니다.\n",
      "*201912개가 검색 되었습니다.\n"
     ]
    }
   ],
   "source": [
    "from urllib.request import urlopen\n",
    "import requests\n",
    "import bs4\n",
    "import pandas as pd\n",
    "if __name__ == \"__main__\":\n",
    "    code=pd.read_excel(\"KIKcd_B.20180122.xlsx\")\n",
    "    code_con=code[(code[\"시도명\"]==\"서울특별시\") | (code[\"시도명\"]==\"부산광역시\")|(code[\"시도명\"]==\"대구광역시\")|(code[\"시도명\"]==\"인천광역시\")|(code[\"시도명\"]==\"광주광역시\")|(code[\"시도명\"]==\"대전광역시\")|(code[\"시도명\"]==\"울산광역시\")|(code[\"시도명\"]==\"광주광역시\") |(code[\"시도명\"]==\"경기도\")]\n",
    "    code_con=code_con[code_con[\"읍면동명\"].isnull()==True]\n",
    "    code_con=code_con[code_con[\"시군구명\"].isnull()==False]\n",
    "    code_con[\"ji_code\"]=code_con[\"법정동코드\"].astype(str).str[0:5]\n",
    "    lent_trade=pd.DataFrame()\n",
    " \n",
    "    YMD=list([\"201705\",\"201706\",\"201707\",\"201708\",\"201709\",\"201710\",\"201711\",\"201712\",\"201801\",\"201802\",\"201803\",\"201804\",\"201805\",\"201806\",\"201807\",\"201808\",\"201809\",\"201810\",\"201811\",\"201812\",\"201901\",\"201902\",\"201903\",\"201904\",\"201905\",\"201906\",\"201907\",\"201908\",\"201909\",\"201910\",\"201911\",\"201912\"])\n",
    "    for m in YMD:\n",
    "        for c in code_con[\"ji_code\"]:\n",
    "            temp=lent_data(m,c)\n",
    "            lent_trade=pd.concat([lent_trade,temp])\n",
    "        print(\"*\"+str(m)+\"개가 검색 되었습니다.\")\n",
    "lent_trade.to_csv('Dataset.csv',encoding=\"euc-kr\")"
   ]
  },
  {
   "cell_type": "code",
   "execution_count": 44,
   "metadata": {},
   "outputs": [],
   "source": [
    "lent_trade"
   ]
  },
  {
   "cell_type": "code",
   "execution_count": null,
   "metadata": {},
   "outputs": [],
   "source": []
  }
 ],
 "metadata": {
  "kernelspec": {
   "display_name": "Python 3",
   "language": "python",
   "name": "python3"
  },
  "language_info": {
   "codemirror_mode": {
    "name": "ipython",
    "version": 3
   },
   "file_extension": ".py",
   "mimetype": "text/x-python",
   "name": "python",
   "nbconvert_exporter": "python",
   "pygments_lexer": "ipython3",
   "version": "3.6.8"
  }
 },
 "nbformat": 4,
 "nbformat_minor": 2
}
